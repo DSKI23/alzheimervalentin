{
  "nbformat": 4,
  "nbformat_minor": 0,
  "metadata": {
    "colab": {
      "provenance": [],
      "authorship_tag": "ABX9TyMgcXvrcV9ao8lD4jWWYfJu",
      "include_colab_link": true
    },
    "kernelspec": {
      "name": "python3",
      "display_name": "Python 3"
    },
    "language_info": {
      "name": "python"
    }
  },
  "cells": [
    {
      "cell_type": "markdown",
      "metadata": {
        "id": "view-in-github",
        "colab_type": "text"
      },
      "source": [
        "<a href=\"https://colab.research.google.com/github/DSKI23/alzheimervalentin/blob/29-add-requirementstxt/RequirementsSample.ipynb\" target=\"_parent\"><img src=\"https://colab.research.google.com/assets/colab-badge.svg\" alt=\"Open In Colab\"/></a>"
      ]
    },
    {
      "cell_type": "code",
      "execution_count": 3,
      "metadata": {
        "id": "4WUlgnO5W8eJ",
        "outputId": "c43da5b8-7630-4db0-e861-f6d026e9a033",
        "colab": {
          "base_uri": "https://localhost:8080/"
        }
      },
      "outputs": [
        {
          "output_type": "stream",
          "name": "stdout",
          "text": [
            "Requirement already satisfied: colorama==0.4.6 in /usr/local/lib/python3.11/dist-packages (from -r https://raw.githubusercontent.com/DSKI23/alzheimervalentin/refs/heads/main/requirements.txt (line 1)) (0.4.6)\n",
            "Requirement already satisfied: iniconfig==2.0.0 in /usr/local/lib/python3.11/dist-packages (from -r https://raw.githubusercontent.com/DSKI23/alzheimervalentin/refs/heads/main/requirements.txt (line 2)) (2.0.0)\n",
            "Requirement already satisfied: numpy==2.2.2 in /usr/local/lib/python3.11/dist-packages (from -r https://raw.githubusercontent.com/DSKI23/alzheimervalentin/refs/heads/main/requirements.txt (line 3)) (2.2.2)\n",
            "Requirement already satisfied: packaging==24.2 in /usr/local/lib/python3.11/dist-packages (from -r https://raw.githubusercontent.com/DSKI23/alzheimervalentin/refs/heads/main/requirements.txt (line 4)) (24.2)\n",
            "Requirement already satisfied: pluggy==1.5.0 in /usr/local/lib/python3.11/dist-packages (from -r https://raw.githubusercontent.com/DSKI23/alzheimervalentin/refs/heads/main/requirements.txt (line 5)) (1.5.0)\n",
            "Requirement already satisfied: pytest==8.3.4 in /usr/local/lib/python3.11/dist-packages (from -r https://raw.githubusercontent.com/DSKI23/alzheimervalentin/refs/heads/main/requirements.txt (line 6)) (8.3.4)\n"
          ]
        }
      ],
      "source": [
        "!pip install -r \"https://raw.githubusercontent.com/DSKI23/alzheimervalentin/refs/heads/main/requirements.txt\""
      ]
    },
    {
      "cell_type": "code",
      "source": [],
      "metadata": {
        "id": "LiXT4WFeXyyR"
      },
      "execution_count": null,
      "outputs": []
    }
  ]
}