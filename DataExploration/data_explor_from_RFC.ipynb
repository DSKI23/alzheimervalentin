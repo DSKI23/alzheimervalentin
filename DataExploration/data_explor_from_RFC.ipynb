{
 "cells": [
  {
   "cell_type": "code",
   "execution_count": null,
   "metadata": {
    "vscode": {
     "languageId": "plaintext"
    }
   },
   "outputs": [],
   "source": [
    "# # 3. Baseline-Modell für Feature Wichtigkeit\n",
    "# rf = RandomForestClassifier(n_estimators=50, random_state=state)\n",
    "# rf.fit(X, y)\n",
    "\n",
    "# # 4. Feature Importance visualisieren\n",
    "# feature_importance = pd.DataFrame({'Feature': X.columns, 'Importance': rf.feature_importances_})\n",
    "# feature_importance = feature_importance.sort_values(by='Importance', ascending=False)\n",
    "\n",
    "# plt.figure(figsize=(10, 5))\n",
    "# sns.barplot(x=feature_importance['Importance'], y=feature_importance['Feature'], palette=\"viridis\")\n",
    "# plt.title(\"Feature Importance nach Random Forest\")\n",
    "# plt.xlabel(\"Bedeutung für Vorhersage\")\n",
    "# plt.ylabel(\"Feature\")\n",
    "# plt.show()\n",
    "\n",
    "# # 5. Alzheimer-Verteilung im Datensatz\n",
    "# alzheimers_count = df[target].value_counts(normalize=True) * 100\n",
    "# plt.figure(figsize=(6, 4))\n",
    "# sns.barplot(x=alzheimers_count.index, y=alzheimers_count.values, palette=\"coolwarm\")\n",
    "# plt.title(\"Prozentualer Anteil der Alzheimer-Kranken\")\n",
    "# plt.ylabel(\"Prozent\")\n",
    "# plt.xlabel(\"Alzheimer-Diagnose\")\n",
    "# plt.show()\n"
   ]
  }
 ],
 "metadata": {
  "language_info": {
   "name": "python"
  }
 },
 "nbformat": 4,
 "nbformat_minor": 2
}
